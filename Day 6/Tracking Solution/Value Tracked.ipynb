{
 "cells": [
  {
   "cell_type": "code",
   "execution_count": 2,
   "id": "58917ec7-007f-4ef3-b57e-668c51a7a932",
   "metadata": {},
   "outputs": [
    {
     "name": "stdout",
     "output_type": "stream",
     "text": [
      "1501041303217\n"
     ]
    }
   ],
   "source": [
    "# Value Tracking Method\n",
    "#SAME GIVEN DATA FROM PROBLEM\n",
    "#Unravelled loop for readability\n",
    "#faster method tracks values rather than the entire list starts at day 0 and not 1\n",
    "lanterns = [1,3,3,4,5,1,1,1,1,1,1,2,1,4,1,1,1,5,2,2,4,3,1,1,2,5,4,2,2,3,1,2,3,2,1,1,4,4,2,4,4,1,2,4,3,3,3,1,1,3,4,5,2,5,1,2,5,1,1,1,3,2,3,3,1,4,1,1,4,1,4,1,1,1,1,5,4,2,1,2,2,5,5,1,1,1,1,2,1,1,1,1,3,2,3,1,4,3,1,1,3,1,1,1,1,3,3,4,5,1,1,5,4,4,4,4,2,5,1,1,2,5,1,3,4,4,1,4,1,5,5,2,4,5,1,1,3,1,3,1,4,1,3,1,2,2,1,5,1,5,1,3,1,3,1,4,1,4,5,1,4,5,1,1,5,2,2,4,5,1,3,2,4,2,1,1,1,2,1,2,1,3,4,4,2,2,4,2,1,4,1,3,1,3,5,3,1,1,2,2,1,5,2,1,1,1,1,1,5,4,3,5,3,3,1,5,5,4,4,2,1,1,1,2,5,3,3,2,1,1,1,5,5,3,1,4,4,2,4,2,1,1,1,5,1,2,4,1,3,4,4,2,1,4,2,1,3,4,3,3,2,3,1,5,3,1,1,5,1,2,2,4,4,1,2,3,1,2,1,1,2,1,1,1,2,3,5,5,1,2,3,1,3,5,4,2,1,3,3,4]\n",
    "count_0 = lanterns.count(0)\n",
    "count_1 = lanterns.count(1)\n",
    "count_2 = lanterns.count(2)\n",
    "count_3 = lanterns.count(3)\n",
    "count_4 = lanterns.count(4)\n",
    "count_5 = lanterns.count(5)\n",
    "count_6 = lanterns.count(6)\n",
    "count_7 = lanterns.count(7)\n",
    "count_8 = lanterns.count(8)\n",
    "for x in range (0,255): #0, X for whatever day\n",
    "    #subtract 1 from each \n",
    "    temp = count_0\n",
    "    count_0 = count_1\n",
    "    count_1 = count_2\n",
    "    count_2 = count_3\n",
    "    count_3 = count_4\n",
    "    count_4 = count_5\n",
    "    count_5 = count_6\n",
    "    count_6 = count_7\n",
    "    count_7 = count_8\n",
    "    count_8 = temp\n",
    "    count_6 += temp\n",
    "    #print (x) not necessary unless troubleshooting\n",
    "print (count_0 + count_1 + count_2 + count_3 + count_4 + count_5 + count_6 + count_7 + count_8)        "
   ]
  },
  {
   "cell_type": "code",
   "execution_count": null,
   "id": "b8b99bd0-dc99-4485-9d65-77cf82730fa0",
   "metadata": {},
   "outputs": [],
   "source": []
  }
 ],
 "metadata": {
  "kernelspec": {
   "display_name": "Python 3 (ipykernel)",
   "language": "python",
   "name": "python3"
  },
  "language_info": {
   "codemirror_mode": {
    "name": "ipython",
    "version": 3
   },
   "file_extension": ".py",
   "mimetype": "text/x-python",
   "name": "python",
   "nbconvert_exporter": "python",
   "pygments_lexer": "ipython3",
   "version": "3.8.8"
  }
 },
 "nbformat": 4,
 "nbformat_minor": 5
}
